{
 "cells": [
  {
   "cell_type": "markdown",
   "metadata": {},
   "source": [
    "# Creates subgrids based on size and orientation of a known polygon feature grid system\n",
    "## 1. Load shapefile and initialize the variables\n",
    "### To run this code you have to install ArcGIS Pro 3.0 and Anaconda3 2021.05(Python 3.8.8 64bit)\n",
    "### And clone the arcgispro-py3 env to conda env using ArcGIS Pro Package Manager\n",
    "### To develop code I used Visual Studio Code and installed jupyter notebook extenstion"
   ]
  },
  {
   "cell_type": "code",
   "execution_count": 55,
   "metadata": {},
   "outputs": [],
   "source": [
    "import arcpy\n",
    "from arcpy import env\n",
    "import math\n",
    "env.overwriteOutput = True\n",
    "\n",
    "# you have to change this directory into your shapefile directory\n",
    "env.workspace = r\"C:\\Users\\Shinestar\\Documents\\ArcPy_Fishnet\"\n",
    "\n",
    "# You can change this value to set subgrids width and height\n",
    "cellSizeWidth = '20'\n",
    "cellSizeHeight = '20'\n",
    "\n",
    "# input shapefile name, you have to change into your shapefile name\n",
    "inpFeatureClass = 'TG506_SubGrids_110922'\n",
    "# output shapefile name\n",
    "outFeatureClass = 'Fishnet_Result'\n",
    "\n",
    "# this is used for spatial reference\n",
    "templateExtent = inpFeatureClass\n",
    "# angle field name of origin shape file attribute table\n",
    "a_field_name = 'Main_Angle'\n",
    "# temporary feature class in memory\n",
    "tempFeatureClass = 'in_memory/Temp'\n",
    "desc = arcpy.Describe(inpFeatureClass)\n",
    "# get extent of origin shape file\n",
    "left = desc.extent.XMin\n",
    "right = desc.extent.XMax\n",
    "bottom = desc.extent.YMin\n",
    "top = desc.extent.YMax"
   ]
  },
  {
   "cell_type": "markdown",
   "metadata": {},
   "source": [
    "## 2. Calculate the angle of the origin feature polygon grid\n",
    "### A. Create new field 'Main_Angle'\n"
   ]
  },
  {
   "cell_type": "code",
   "execution_count": 56,
   "metadata": {},
   "outputs": [
    {
     "data": {
      "text/html": [
       "<div class='gpresult'><h2>Messages</h2><div id='messages' data-messages='[\"Start Time: Friday, November 18, 2022 7:53:32 AM\",\"Adding Main_Angle to TG506_SubGrids_110922...\",\"Succeeded at Friday, November 18, 2022 7:53:33 AM (Elapsed Time: 0.47 seconds)\"]' data-show='true'><div id = 'default' /></div></div>"
      ],
      "text/plain": [
       "<Result 'C:\\\\Users\\\\Shinestar\\\\Documents\\\\ArcPy_Fishnet\\\\TG506_SubGrids_110922'>"
      ]
     },
     "execution_count": 56,
     "metadata": {},
     "output_type": "execute_result"
    }
   ],
   "source": [
    "arcpy.AddField_management(inpFeatureClass, a_field_name, field_type='double')"
   ]
  },
  {
   "cell_type": "markdown",
   "metadata": {},
   "source": [
    "### B. Calculate Polygon Main Angle\n"
   ]
  },
  {
   "cell_type": "code",
   "execution_count": 57,
   "metadata": {},
   "outputs": [
    {
     "data": {
      "text/html": [
       "<div class='gpresult'><h2>Messages</h2><div id='messages' data-messages='[\"Start Time: Friday, November 18, 2022 7:53:40 AM\",\"Succeeded at Friday, November 18, 2022 7:53:44 AM (Elapsed Time: 4.80 seconds)\"]' data-show='true'><div id = 'default' /></div></div>"
      ],
      "text/plain": [
       "<Result 'C:\\\\Users\\\\Shinestar\\\\Documents\\\\ArcPy_Fishnet\\\\TG506_SubGrids_110922'>"
      ]
     },
     "execution_count": 57,
     "metadata": {},
     "output_type": "execute_result"
    }
   ],
   "source": [
    "arcpy.CalculatePolygonMainAngle_cartography(inpFeatureClass, a_field_name)"
   ]
  },
  {
   "cell_type": "markdown",
   "metadata": {},
   "source": [
    "### C. Get origin features angle value"
   ]
  },
  {
   "cell_type": "code",
   "execution_count": 58,
   "metadata": {},
   "outputs": [
    {
     "name": "stdout",
     "output_type": "stream",
     "text": [
      "88.17\n"
     ]
    }
   ],
   "source": [
    "angle_values = [row[0] for row in arcpy.da.SearchCursor(inpFeatureClass, a_field_name)]\n",
    "print(angle_values[0])"
   ]
  },
  {
   "cell_type": "markdown",
   "metadata": {},
   "source": [
    "## 2. Generate new Fishnet\n",
    "### A. Calculate parameters to generate fishnet\n"
   ]
  },
  {
   "cell_type": "code",
   "execution_count": 59,
   "metadata": {},
   "outputs": [],
   "source": [
    "origin_coordinate = str(left) + ' ' + str(bottom)\n",
    "# this parameter is for setting new fishnet angle from origin angle\n",
    "y_axis_coordinate = str(math.cos(math.radians(angle_values[0])) * 10 + left) + ' ' + str(math.sin(math.radians(angle_values[0])) * 10 + bottom)\n",
    "corner_point = str(2 * right - left) + ' ' + str(2 * top - bottom)"
   ]
  },
  {
   "cell_type": "markdown",
   "metadata": {},
   "source": [
    "### B. Create new Fishnet"
   ]
  },
  {
   "cell_type": "code",
   "execution_count": 60,
   "metadata": {},
   "outputs": [
    {
     "data": {
      "text/html": [
       "<div class='gpresult'><h2>Messages</h2><div id='messages' data-messages='[\"Start Time: Friday, November 18, 2022 7:54:02 AM\",\"Succeeded at Friday, November 18, 2022 7:54:03 AM (Elapsed Time: 0.96 seconds)\"]' data-show='true'><div id = 'default' /></div></div>"
      ],
      "text/plain": [
       "<Result 'in_memory\\\\Temp'>"
      ]
     },
     "execution_count": 60,
     "metadata": {},
     "output_type": "execute_result"
    }
   ],
   "source": [
    "arcpy.CreateFishnet_management(tempFeatureClass,origin_coordinate, y_axis_coordinate, cell_width=cellSizeWidth, cell_height=cellSizeHeight, corner_coord=corner_point,template=inpFeatureClass)"
   ]
  },
  {
   "cell_type": "markdown",
   "metadata": {},
   "source": [
    "### C. Transform fishnet to close the origin feature class"
   ]
  },
  {
   "cell_type": "code",
   "execution_count": 61,
   "metadata": {},
   "outputs": [],
   "source": [
    "# move function\n",
    "def shift_features(in_features, x_shift=None, y_shift=None):\n",
    "    with arcpy.da.UpdateCursor(in_features, ['SHAPE@XY']) as cursor:\n",
    "        for row in cursor:\n",
    "            cursor.updateRow([[row[0][0] + (x_shift or 0),\n",
    "                               row[0][1] + (y_shift or 0)]])\n",
    "    return\n",
    "\n",
    "x_origin_feature_centroid = (left + right)/2\n",
    "y_origin_feature_centroid = (bottom + top)/2\n",
    "fdesc = arcpy.Describe(tempFeatureClass)\n",
    "x_fishnet_centroid = (fdesc.extent.XMin + fdesc.extent.XMax)/2\n",
    "y_fishnet_centroid = (fdesc.extent.YMin + fdesc.extent.YMax)/2\n",
    "\n",
    "shift_features(tempFeatureClass,x_origin_feature_centroid - x_fishnet_centroid, y_origin_feature_centroid - y_fishnet_centroid)"
   ]
  },
  {
   "cell_type": "markdown",
   "metadata": {},
   "source": [
    "## 3. Clip fishnet with orign feature"
   ]
  },
  {
   "cell_type": "code",
   "execution_count": 62,
   "metadata": {},
   "outputs": [
    {
     "data": {
      "text/html": [
       "<div class='gpresult'><h2>Messages</h2><div id='messages' data-messages='[\"Start Time: Friday, November 18, 2022 7:54:26 AM\",\"Analyzing input features...\",\"Dissolving clip features...\",\"Clipping input features...\",\"Succeeded at Friday, November 18, 2022 7:54:29 AM (Elapsed Time: 2.71 seconds)\"]' data-show='true'><div id = 'default' /></div></div>"
      ],
      "text/plain": [
       "<Result 'C:\\\\Users\\\\Shinestar\\\\Documents\\\\ArcPy_Fishnet\\\\Fishnet_Result.shp'>"
      ]
     },
     "execution_count": 62,
     "metadata": {},
     "output_type": "execute_result"
    }
   ],
   "source": [
    "arcpy.Clip_analysis(tempFeatureClass, inpFeatureClass,outFeatureClass)"
   ]
  }
 ],
 "metadata": {
  "kernelspec": {
   "display_name": "Python 3.9.11",
   "language": "python",
   "name": "python3"
  },
  "language_info": {
   "codemirror_mode": {
    "name": "ipython",
    "version": 3
   },
   "file_extension": ".py",
   "mimetype": "text/x-python",
   "name": "python",
   "nbconvert_exporter": "python",
   "pygments_lexer": "ipython3",
   "version": "3.9.11"
  },
  "vscode": {
   "interpreter": {
    "hash": "ffb7f0678443d52629620a0baf7fa8d0997933f59d7d2d4bf7fb919b5326752c"
   }
  }
 },
 "nbformat": 4,
 "nbformat_minor": 2
}
